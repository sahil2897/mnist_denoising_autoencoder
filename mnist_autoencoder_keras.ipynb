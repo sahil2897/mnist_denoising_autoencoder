{
  "nbformat": 4,
  "nbformat_minor": 0,
  "metadata": {
    "kernelspec": {
      "name": "python3",
      "display_name": "Python 3"
    },
    "language_info": {
      "codemirror_mode": {
        "name": "ipython",
        "version": 3
      },
      "file_extension": ".py",
      "mimetype": "text/x-python",
      "name": "python",
      "nbconvert_exporter": "python",
      "pygments_lexer": "ipython3",
      "version": "3.7.3"
    },
    "colab": {
      "name": "mnist_autoencoder.ipynb",
      "version": "0.3.2",
      "provenance": []
    },
    "accelerator": "GPU"
  },
  "cells": [
    {
      "cell_type": "code",
      "metadata": {
        "id": "250tLNx8NqmD",
        "colab_type": "code",
        "colab": {}
      },
      "source": [
        "import numpy as np\n",
        "import matplotlib.pyplot as plt\n",
        "import pandas as pd"
      ],
      "execution_count": 0,
      "outputs": []
    },
    {
      "cell_type": "code",
      "metadata": {
        "id": "MlzYFJU5NqmM",
        "colab_type": "code",
        "colab": {
          "base_uri": "https://localhost:8080/",
          "height": 34
        },
        "outputId": "507b696d-ffae-4942-b12e-43cd11bb1df8"
      },
      "source": [
        "from keras.layers import Conv2D,Conv2DTranspose,MaxPooling2D,UpSampling2D\n",
        "from keras.models import Sequential"
      ],
      "execution_count": 2,
      "outputs": [
        {
          "output_type": "stream",
          "text": [
            "Using TensorFlow backend.\n"
          ],
          "name": "stderr"
        }
      ]
    },
    {
      "cell_type": "code",
      "metadata": {
        "id": "pETCXYmnNqmT",
        "colab_type": "code",
        "colab": {}
      },
      "source": [
        "from keras.datasets import mnist"
      ],
      "execution_count": 0,
      "outputs": []
    },
    {
      "cell_type": "code",
      "metadata": {
        "id": "NUyYDb9ANqmW",
        "colab_type": "code",
        "colab": {
          "base_uri": "https://localhost:8080/",
          "height": 52
        },
        "outputId": "10100dba-de4e-45b0-cd8f-fb7433160047"
      },
      "source": [
        "(x_train, y_train), (x_test, y_test) = mnist.load_data()"
      ],
      "execution_count": 4,
      "outputs": [
        {
          "output_type": "stream",
          "text": [
            "Downloading data from https://s3.amazonaws.com/img-datasets/mnist.npz\n",
            "11493376/11490434 [==============================] - 1s 0us/step\n"
          ],
          "name": "stdout"
        }
      ]
    },
    {
      "cell_type": "code",
      "metadata": {
        "id": "3oXtNUUCNqmZ",
        "colab_type": "code",
        "colab": {}
      },
      "source": [
        "x_train = x_train.astype('float32') / 255\n",
        "x_test = x_test.astype('float32') / 255"
      ],
      "execution_count": 0,
      "outputs": []
    },
    {
      "cell_type": "code",
      "metadata": {
        "id": "8Bpk6ly-Nqmc",
        "colab_type": "code",
        "colab": {}
      },
      "source": [
        "x_train_noisy =x_train + np.random.normal(0,0.2 , size=x_train.shape)\n",
        "x_test_noisy =x_test + np.random.normal(0,0.2 , size=x_test.shape)"
      ],
      "execution_count": 0,
      "outputs": []
    },
    {
      "cell_type": "code",
      "metadata": {
        "id": "I2TKRV-wNqmg",
        "colab_type": "code",
        "colab": {}
      },
      "source": [
        "x_train_noisy = np.clip(x_train_noisy,0.0,1.0)\n",
        "x_test_noisy = np.clip(x_test_noisy,0.0,1.0)"
      ],
      "execution_count": 0,
      "outputs": []
    },
    {
      "cell_type": "code",
      "metadata": {
        "id": "nMAdSnDVNqmj",
        "colab_type": "code",
        "colab": {
          "base_uri": "https://localhost:8080/",
          "height": 233
        },
        "outputId": "d1d97e3f-d5df-48c0-b90b-7d56d8d63b53"
      },
      "source": [
        "fig,(ax1,ax2) = plt.subplots(1,2)\n",
        "ax1.imshow(x_train[0], cmap='gray')\n",
        "ax1.set_title('Original Image')\n",
        "ax2.imshow(x_train_noisy[0],cmap='gray')\n",
        "ax2.set_title('Noisy Image')"
      ],
      "execution_count": 8,
      "outputs": [
        {
          "output_type": "execute_result",
          "data": {
            "text/plain": [
              "Text(0.5, 1.0, 'Noisy Image')"
            ]
          },
          "metadata": {
            "tags": []
          },
          "execution_count": 8
        },
        {
          "output_type": "display_data",
          "data": {
            "image/png": "[encoded data removed]",
            "text/plain": [
              "<Figure size 432x288 with 2 Axes>"
            ]
          },
          "metadata": {
            "tags": []
          }
        }
      ]
    },
    {
      "cell_type": "code",
      "metadata": {
        "id": "ZI2bVUL7Nqmm",
        "colab_type": "code",
        "colab": {}
      },
      "source": [
        "image_size = 28\n",
        "x_train = np.reshape(x_train, [-1, image_size, image_size, 1])\n",
        "x_test = np.reshape(x_test, [-1, image_size, image_size, 1])\n",
        "x_train_noisy = np.reshape(x_train_noisy, [-1, image_size, image_size, 1])\n",
        "x_test_noisy = np.reshape(x_test_noisy, [-1, image_size, image_size, 1])"
      ],
      "execution_count": 0,
      "outputs": []
    },
    {
      "cell_type": "code",
      "metadata": {
        "id": "At58dPXuNqmq",
        "colab_type": "code",
        "colab": {
          "base_uri": "https://localhost:8080/",
          "height": 34
        },
        "outputId": "731a52ca-b0d4-4af3-a9b7-4925161d0c5a"
      },
      "source": [
        "x_train.shape"
      ],
      "execution_count": 10,
      "outputs": [
        {
          "output_type": "execute_result",
          "data": {
            "text/plain": [
              "(60000, 28, 28, 1)"
            ]
          },
          "metadata": {
            "tags": []
          },
          "execution_count": 10
        }
      ]
    },
    {
      "cell_type": "code",
      "metadata": {
        "id": "izziOnrNNqmt",
        "colab_type": "code",
        "colab": {
          "base_uri": "https://localhost:8080/",
          "height": 34
        },
        "outputId": "c122db36-f91b-46c9-b096-d20d8b61f46b"
      },
      "source": [
        "x_train.dtype"
      ],
      "execution_count": 11,
      "outputs": [
        {
          "output_type": "execute_result",
          "data": {
            "text/plain": [
              "dtype('float32')"
            ]
          },
          "metadata": {
            "tags": []
          },
          "execution_count": 11
        }
      ]
    },
    {
      "cell_type": "code",
      "metadata": {
        "scrolled": true,
        "id": "FPLfUpdfNqmw",
        "colab_type": "code",
        "colab": {}
      },
      "source": [
        "model = Sequential()\n",
        "model.add(Conv2D(32,(3,3),activation='relu',padding='same',input_shape=(28,28,1),name='1stconv'))\n",
        "model.add(MaxPooling2D(pool_size=(2,2)))\n",
        "model.add(Conv2D(64,(3,3),activation='relu',padding='same',name='2ndconv'))\n",
        "model.add(MaxPooling2D(pool_size=(2,2)))\n",
        "model.add(Conv2D(128,(3,3),activation='relu',padding='same',name='3rdconv'))\n",
        "model.add(Conv2DTranspose(128,(3,3),activation='relu',padding='same',name='1stdeconv'))\n",
        "model.add(UpSampling2D((2,2)))\n",
        "model.add(Conv2DTranspose(64,(3,3),activation='relu',padding='same',name='2nddeconv'))\n",
        "model.add(UpSampling2D((2,2)))\n",
        "model.add(Conv2DTranspose(1,(3,3),activation='relu',padding='same',name='3rddeconv'))"
      ],
      "execution_count": 0,
      "outputs": []
    },
    {
      "cell_type": "code",
      "metadata": {
        "id": "QW5MXTBZNqm0",
        "colab_type": "code",
        "colab": {}
      },
      "source": [
        "model.compile('adam','mse', metrics=['accuracy'])"
      ],
      "execution_count": 0,
      "outputs": []
    },
    {
      "cell_type": "code",
      "metadata": {
        "id": "whEALgQYNqm3",
        "colab_type": "code",
        "colab": {
          "base_uri": "https://localhost:8080/",
          "height": 1000
        },
        "outputId": "55e6a3bd-2485-4fa4-eda4-e45a3378b124"
      },
      "source": [
        "model.fit(x_train_noisy,x_train,batch_size = 128, epochs=100)"
      ],
      "execution_count": 15,
      "outputs": [
        {
          "output_type": "stream",
          "text": [
            "Epoch 1/100\n",
            "60000/60000 [==============================] - 6s 101us/step - loss: 0.0043 - acc: 0.8153\n",
            "Epoch 2/100\n",
            "60000/60000 [==============================] - 6s 98us/step - loss: 0.0038 - acc: 0.8154\n",
            "Epoch 3/100\n",
            "60000/60000 [==============================] - 6s 99us/step - loss: 0.0035 - acc: 0.8154\n",
            "Epoch 4/100\n",
            "60000/60000 [==============================] - 6s 99us/step - loss: 0.0034 - acc: 0.8154\n",
            "Epoch 5/100\n",
            "60000/60000 [==============================] - 6s 99us/step - loss: 0.0032 - acc: 0.8154\n",
            "Epoch 6/100\n",
            "60000/60000 [==============================] - 6s 100us/step - loss: 0.0031 - acc: 0.8154\n",
            "Epoch 7/100\n",
            "60000/60000 [==============================] - 6s 100us/step - loss: 0.0031 - acc: 0.8154\n",
            "Epoch 8/100\n",
            "60000/60000 [==============================] - 6s 100us/step - loss: 0.0030 - acc: 0.8154\n",
            "Epoch 9/100\n",
            "60000/60000 [==============================] - 6s 100us/step - loss: 0.0030 - acc: 0.8154\n",
            "Epoch 10/100\n",
            "60000/60000 [==============================] - 6s 100us/step - loss: 0.0029 - acc: 0.8154\n",
            "Epoch 11/100\n",
            "60000/60000 [==============================] - 6s 100us/step - loss: 0.0029 - acc: 0.8154\n",
            "Epoch 12/100\n",
            "60000/60000 [==============================] - 6s 100us/step - loss: 0.0028 - acc: 0.8154\n",
            "Epoch 13/100\n",
            "60000/60000 [==============================] - 6s 100us/step - loss: 0.0028 - acc: 0.8154\n",
            "Epoch 14/100\n",
            "60000/60000 [==============================] - 6s 100us/step - loss: 0.0028 - acc: 0.8154\n",
            "Epoch 15/100\n",
            "60000/60000 [==============================] - 6s 100us/step - loss: 0.0028 - acc: 0.8154\n",
            "Epoch 16/100\n",
            "60000/60000 [==============================] - 6s 100us/step - loss: 0.0027 - acc: 0.8154\n",
            "Epoch 17/100\n",
            "60000/60000 [==============================] - 6s 100us/step - loss: 0.0027 - acc: 0.8154\n",
            "Epoch 18/100\n",
            "60000/60000 [==============================] - 6s 100us/step - loss: 0.0027 - acc: 0.8154\n",
            "Epoch 19/100\n",
            "60000/60000 [==============================] - 6s 100us/step - loss: 0.0027 - acc: 0.8154\n",
            "Epoch 20/100\n",
            "60000/60000 [==============================] - 6s 100us/step - loss: 0.0027 - acc: 0.8154\n",
            "Epoch 21/100\n",
            "60000/60000 [==============================] - 6s 100us/step - loss: 0.0027 - acc: 0.8155\n",
            "Epoch 22/100\n",
            "60000/60000 [==============================] - 6s 100us/step - loss: 0.0026 - acc: 0.8155\n",
            "Epoch 23/100\n",
            "60000/60000 [==============================] - 6s 100us/step - loss: 0.0026 - acc: 0.8155\n",
            "Epoch 24/100\n",
            "60000/60000 [==============================] - 6s 100us/step - loss: 0.0026 - acc: 0.8155\n",
            "Epoch 25/100\n",
            "60000/60000 [==============================] - 6s 100us/step - loss: 0.0026 - acc: 0.8155\n",
            "Epoch 26/100\n",
            "60000/60000 [==============================] - 6s 101us/step - loss: 0.0026 - acc: 0.8155\n",
            "Epoch 27/100\n",
            "60000/60000 [==============================] - 6s 100us/step - loss: 0.0026 - acc: 0.8155\n",
            "Epoch 28/100\n",
            "60000/60000 [==============================] - 6s 100us/step - loss: 0.0026 - acc: 0.8155\n",
            "Epoch 29/100\n",
            "60000/60000 [==============================] - 6s 100us/step - loss: 0.0026 - acc: 0.8155\n",
            "Epoch 30/100\n",
            "60000/60000 [==============================] - 6s 99us/step - loss: 0.0026 - acc: 0.8155\n",
            "Epoch 31/100\n",
            "60000/60000 [==============================] - 6s 100us/step - loss: 0.0025 - acc: 0.8155\n",
            "Epoch 32/100\n",
            "60000/60000 [==============================] - 6s 99us/step - loss: 0.0025 - acc: 0.8155\n",
            "Epoch 33/100\n",
            "60000/60000 [==============================] - 6s 100us/step - loss: 0.0025 - acc: 0.8155\n",
            "Epoch 34/100\n",
            "60000/60000 [==============================] - 6s 103us/step - loss: 0.0025 - acc: 0.8155\n",
            "Epoch 35/100\n",
            "60000/60000 [==============================] - 6s 102us/step - loss: 0.0025 - acc: 0.8155\n",
            "Epoch 36/100\n",
            "60000/60000 [==============================] - 6s 99us/step - loss: 0.0025 - acc: 0.8155\n",
            "Epoch 37/100\n",
            "60000/60000 [==============================] - 6s 100us/step - loss: 0.0025 - acc: 0.8155\n",
            "Epoch 38/100\n",
            "60000/60000 [==============================] - 6s 100us/step - loss: 0.0025 - acc: 0.8155\n",
            "Epoch 39/100\n",
            "60000/60000 [==============================] - 6s 100us/step - loss: 0.0025 - acc: 0.8155\n",
            "Epoch 40/100\n",
            "60000/60000 [==============================] - 6s 100us/step - loss: 0.0025 - acc: 0.8155\n",
            "Epoch 41/100\n",
            "60000/60000 [==============================] - 6s 99us/step - loss: 0.0025 - acc: 0.8155\n",
            "Epoch 42/100\n",
            "60000/60000 [==============================] - 6s 99us/step - loss: 0.0025 - acc: 0.8155\n",
            "Epoch 43/100\n",
            "60000/60000 [==============================] - 6s 99us/step - loss: 0.0025 - acc: 0.8155\n",
            "Epoch 44/100\n",
            "60000/60000 [==============================] - 6s 99us/step - loss: 0.0025 - acc: 0.8155\n",
            "Epoch 45/100\n",
            "60000/60000 [==============================] - 6s 99us/step - loss: 0.0025 - acc: 0.8155\n",
            "Epoch 46/100\n",
            "60000/60000 [==============================] - 6s 99us/step - loss: 0.0025 - acc: 0.8155\n",
            "Epoch 47/100\n",
            "60000/60000 [==============================] - 6s 99us/step - loss: 0.0024 - acc: 0.8155\n",
            "Epoch 48/100\n",
            "60000/60000 [==============================] - 6s 100us/step - loss: 0.0024 - acc: 0.8155\n",
            "Epoch 49/100\n",
            "60000/60000 [==============================] - 6s 99us/step - loss: 0.0024 - acc: 0.8155\n",
            "Epoch 50/100\n",
            "60000/60000 [==============================] - 6s 99us/step - loss: 0.0024 - acc: 0.8155\n",
            "Epoch 51/100\n",
            "60000/60000 [==============================] - 6s 99us/step - loss: 0.0024 - acc: 0.8155\n",
            "Epoch 52/100\n",
            "60000/60000 [==============================] - 6s 100us/step - loss: 0.0024 - acc: 0.8155\n",
            "Epoch 53/100\n",
            "60000/60000 [==============================] - 6s 100us/step - loss: 0.0024 - acc: 0.8155\n",
            "Epoch 54/100\n",
            "60000/60000 [==============================] - 6s 100us/step - loss: 0.0024 - acc: 0.8155\n",
            "Epoch 55/100\n",
            "60000/60000 [==============================] - 6s 99us/step - loss: 0.0024 - acc: 0.8155\n",
            "Epoch 56/100\n",
            "60000/60000 [==============================] - 6s 99us/step - loss: 0.0024 - acc: 0.8155\n",
            "Epoch 57/100\n",
            "60000/60000 [==============================] - 6s 99us/step - loss: 0.0024 - acc: 0.8155\n",
            "Epoch 58/100\n",
            "60000/60000 [==============================] - 6s 99us/step - loss: 0.0024 - acc: 0.8155\n",
            "Epoch 59/100\n",
            "60000/60000 [==============================] - 6s 99us/step - loss: 0.0024 - acc: 0.8155\n",
            "Epoch 60/100\n",
            "60000/60000 [==============================] - 6s 100us/step - loss: 0.0024 - acc: 0.8155\n",
            "Epoch 61/100\n",
            "60000/60000 [==============================] - 6s 99us/step - loss: 0.0024 - acc: 0.8155\n",
            "Epoch 62/100\n",
            "60000/60000 [==============================] - 6s 100us/step - loss: 0.0024 - acc: 0.8155\n",
            "Epoch 63/100\n",
            "60000/60000 [==============================] - 6s 99us/step - loss: 0.0024 - acc: 0.8155\n",
            "Epoch 64/100\n",
            "60000/60000 [==============================] - 6s 99us/step - loss: 0.0024 - acc: 0.8155\n",
            "Epoch 65/100\n",
            "60000/60000 [==============================] - 6s 100us/step - loss: 0.0024 - acc: 0.8155\n",
            "Epoch 66/100\n",
            "60000/60000 [==============================] - 6s 100us/step - loss: 0.0024 - acc: 0.8155\n",
            "Epoch 67/100\n",
            "60000/60000 [==============================] - 6s 101us/step - loss: 0.0024 - acc: 0.8155\n",
            "Epoch 68/100\n",
            "60000/60000 [==============================] - 6s 100us/step - loss: 0.0024 - acc: 0.8155\n",
            "Epoch 69/100\n",
            "60000/60000 [==============================] - 6s 99us/step - loss: 0.0024 - acc: 0.8155\n",
            "Epoch 70/100\n",
            "60000/60000 [==============================] - 6s 99us/step - loss: 0.0024 - acc: 0.8155\n",
            "Epoch 71/100\n",
            "60000/60000 [==============================] - 6s 99us/step - loss: 0.0024 - acc: 0.8155\n",
            "Epoch 72/100\n",
            "60000/60000 [==============================] - 6s 99us/step - loss: 0.0024 - acc: 0.8155\n",
            "Epoch 73/100\n",
            "60000/60000 [==============================] - 6s 100us/step - loss: 0.0024 - acc: 0.8155\n",
            "Epoch 74/100\n",
            "60000/60000 [==============================] - 6s 100us/step - loss: 0.0024 - acc: 0.8155\n",
            "Epoch 75/100\n",
            "60000/60000 [==============================] - 6s 100us/step - loss: 0.0023 - acc: 0.8155\n",
            "Epoch 76/100\n",
            "60000/60000 [==============================] - 6s 100us/step - loss: 0.0024 - acc: 0.8155\n",
            "Epoch 77/100\n",
            "60000/60000 [==============================] - 6s 100us/step - loss: 0.0024 - acc: 0.8155\n",
            "Epoch 78/100\n",
            "60000/60000 [==============================] - 6s 100us/step - loss: 0.0024 - acc: 0.8155\n",
            "Epoch 79/100\n",
            "60000/60000 [==============================] - 6s 100us/step - loss: 0.0023 - acc: 0.8155\n",
            "Epoch 80/100\n",
            "60000/60000 [==============================] - 6s 100us/step - loss: 0.0024 - acc: 0.8155\n",
            "Epoch 81/100\n",
            "60000/60000 [==============================] - 6s 100us/step - loss: 0.0023 - acc: 0.8155\n",
            "Epoch 82/100\n",
            "60000/60000 [==============================] - 6s 99us/step - loss: 0.0023 - acc: 0.8155\n",
            "Epoch 83/100\n",
            "60000/60000 [==============================] - 6s 100us/step - loss: 0.0023 - acc: 0.8155\n",
            "Epoch 84/100\n",
            "60000/60000 [==============================] - 6s 99us/step - loss: 0.0023 - acc: 0.8155\n",
            "Epoch 85/100\n",
            "60000/60000 [==============================] - 6s 102us/step - loss: 0.0023 - acc: 0.8155\n",
            "Epoch 86/100\n",
            "60000/60000 [==============================] - 6s 103us/step - loss: 0.0023 - acc: 0.8155\n",
            "Epoch 87/100\n",
            "60000/60000 [==============================] - 6s 101us/step - loss: 0.0023 - acc: 0.8155\n",
            "Epoch 88/100\n",
            "60000/60000 [==============================] - 6s 99us/step - loss: 0.0023 - acc: 0.8155\n",
            "Epoch 89/100\n",
            "60000/60000 [==============================] - 6s 99us/step - loss: 0.0023 - acc: 0.8155\n",
            "Epoch 90/100\n",
            "60000/60000 [==============================] - 6s 100us/step - loss: 0.0023 - acc: 0.8155\n",
            "Epoch 91/100\n",
            "60000/60000 [==============================] - 6s 100us/step - loss: 0.0023 - acc: 0.8155\n",
            "Epoch 92/100\n",
            "60000/60000 [==============================] - 6s 101us/step - loss: 0.0023 - acc: 0.8155\n",
            "Epoch 93/100\n",
            "60000/60000 [==============================] - 6s 101us/step - loss: 0.0023 - acc: 0.8155\n",
            "Epoch 94/100\n",
            "60000/60000 [==============================] - 6s 99us/step - loss: 0.0023 - acc: 0.8155\n",
            "Epoch 95/100\n",
            "60000/60000 [==============================] - 6s 100us/step - loss: 0.0023 - acc: 0.8155\n",
            "Epoch 96/100\n",
            "60000/60000 [==============================] - 6s 100us/step - loss: 0.0023 - acc: 0.8155\n",
            "Epoch 97/100\n",
            "60000/60000 [==============================] - 6s 100us/step - loss: 0.0023 - acc: 0.8155\n",
            "Epoch 98/100\n",
            "60000/60000 [==============================] - 6s 99us/step - loss: 0.0023 - acc: 0.8155\n",
            "Epoch 99/100\n",
            "60000/60000 [==============================] - 6s 99us/step - loss: 0.0023 - acc: 0.8155\n",
            "Epoch 100/100\n",
            "60000/60000 [==============================] - 6s 99us/step - loss: 0.0023 - acc: 0.8155\n"
          ],
          "name": "stdout"
        },
        {
          "output_type": "execute_result",
          "data": {
            "text/plain": [
              "<keras.callbacks.History at 0x7f5571c8ba20>"
            ]
          },
          "metadata": {
            "tags": []
          },
          "execution_count": 15
        }
      ]
    },
    {
      "cell_type": "code",
      "metadata": {
        "id": "NcxsjA46Nqm6",
        "colab_type": "code",
        "colab": {}
      },
      "source": [
        "model.save('mnist_autoencoder.h5')"
      ],
      "execution_count": 0,
      "outputs": []
    },
    {
      "cell_type": "code",
      "metadata": {
        "id": "7ujlazGuVC87",
        "colab_type": "code",
        "colab": {}
      },
      "source": [
        "pred = model.predict(x_test_noisy)"
      ],
      "execution_count": 0,
      "outputs": []
    },
    {
      "cell_type": "code",
      "metadata": {
        "id": "_MiAx7yCVcHp",
        "colab_type": "code",
        "colab": {
          "base_uri": "https://localhost:8080/",
          "height": 34
        },
        "outputId": "597a03a7-c41d-41a3-8322-0460e0dd2856"
      },
      "source": [
        "pred[0].shape"
      ],
      "execution_count": 19,
      "outputs": [
        {
          "output_type": "execute_result",
          "data": {
            "text/plain": [
              "(28, 28, 1)"
            ]
          },
          "metadata": {
            "tags": []
          },
          "execution_count": 19
        }
      ]
    },
    {
      "cell_type": "code",
      "metadata": {
        "id": "vMhVNdFvVIHP",
        "colab_type": "code",
        "colab": {
          "base_uri": "https://localhost:8080/",
          "height": 495
        },
        "outputId": "50a1d6e1-dd69-4c35-cd1e-a0dadae793b1"
      },
      "source": [
        "plt.rcParams[\"figure.figsize\"] = (8,20)\n",
        "for i in range(1,14,3):\n",
        "  plt.subplot(15,3,i)\n",
        "  plt.imshow(x_test_noisy[i].reshape(28,28),cmap='gray')\n",
        "  plt.xticks([])\n",
        "  plt.yticks([])\n",
        "  plt.subplot(15,3,i+1)\n",
        "  plt.imshow(pred[i].reshape(28,28),cmap='gray')\n",
        "  plt.xticks([])\n",
        "  plt.yticks([])\n",
        "  plt.subplot(15,3,i+2)\n",
        "  plt.imshow(x_test[i].reshape(28,28),cmap='gray')\n",
        "  plt.xticks([])\n",
        "  plt.yticks([])\n",
        "plt.subplot(15,3,1)\n",
        "plt.title('Noisy Images')\n",
        "plt.subplot(15,3,2)\n",
        "plt.title('Model Output Images')\n",
        "plt.subplot(15,3,3)\n",
        "plt.title('Original Image')"
      ],
      "execution_count": 33,
      "outputs": [
        {
          "output_type": "stream",
          "text": [
            "/usr/local/lib/python3.6/dist-packages/matplotlib/figure.py:98: MatplotlibDeprecationWarning: \n",
            "Adding an axes using the same arguments as a previous axes currently reuses the earlier instance.  In a future version, a new instance will always be created and returned.  Meanwhile, this warning can be suppressed, and the future behavior ensured, by passing a unique label to each axes instance.\n",
            "  \"Adding an axes using the same arguments as a previous axes \"\n"
          ],
          "name": "stderr"
        },
        {
          "output_type": "execute_result",
          "data": {
            "text/plain": [
              "Text(0.5, 1.0, 'Original Image')"
            ]
          },
          "metadata": {
            "tags": []
          },
          "execution_count": 33
        },
        {
          "output_type": "display_data",
          "data": {
            "image/png": "[encoded data removed]",
            "text/plain": [
              "<Figure size 576x1440 with 15 Axes>"
            ]
          },
          "metadata": {
            "tags": []
          }
        }
      ]
    },
    {
      "cell_type": "code",
      "metadata": {
        "id": "nc6jKhNBVYsZ",
        "colab_type": "code",
        "colab": {}
      },
      "source": [
        ""
      ],
      "execution_count": 0,
      "outputs": []
    }
  ]
}